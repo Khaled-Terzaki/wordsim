{
 "cells": [
  {
   "cell_type": "code",
   "execution_count": 1,
   "id": "c0021db0",
   "metadata": {},
   "outputs": [
    {
     "data": {
      "text/plain": [
       "{'word': 'blu',\n",
       " 'word_match': 'Blue',\n",
       " 'status': 'successful',\n",
       " 'score': 0.2857142857142857}"
      ]
     },
     "execution_count": 1,
     "metadata": {},
     "output_type": "execute_result"
    }
   ],
   "source": [
    "from wordsim import *\n",
    "\n",
    "lst = ['Red', 'Green', 'Blue']\n",
    "\n",
    "model = wordSim()\n",
    "model.train(lst)\n",
    "model.predict('blu')"
   ]
  },
  {
   "cell_type": "code",
   "execution_count": 2,
   "id": "7f1451fc",
   "metadata": {},
   "outputs": [
    {
     "data": {
      "text/plain": [
       "{'word': 'blue', 'word_match': 'Blue', 'status': 'successful', 'score': 1.0}"
      ]
     },
     "execution_count": 2,
     "metadata": {},
     "output_type": "execute_result"
    }
   ],
   "source": [
    "model.predict('blue')"
   ]
  },
  {
   "cell_type": "code",
   "execution_count": 3,
   "id": "4eccc06c",
   "metadata": {},
   "outputs": [
    {
     "data": {
      "text/plain": [
       "{'word': 'ee',\n",
       " 'word_match': 'Green',\n",
       " 'status': 'successful',\n",
       " 'score': 0.14285714285714285}"
      ]
     },
     "execution_count": 3,
     "metadata": {},
     "output_type": "execute_result"
    }
   ],
   "source": [
    "model.predict('ee')"
   ]
  },
  {
   "cell_type": "code",
   "execution_count": 4,
   "id": "84023d45",
   "metadata": {},
   "outputs": [
    {
     "data": {
      "text/plain": [
       "{'word': 'ed', 'word_match': 'Red', 'status': 'successful', 'score': 0.2}"
      ]
     },
     "execution_count": 4,
     "metadata": {},
     "output_type": "execute_result"
    }
   ],
   "source": [
    "model.predict('ed')"
   ]
  },
  {
   "cell_type": "code",
   "execution_count": 5,
   "id": "bff127c5",
   "metadata": {},
   "outputs": [
    {
     "data": {
      "text/plain": [
       "{'word': '1234', 'word_match': 'None', 'status': 'unsuccessful', 'score': 0.0}"
      ]
     },
     "execution_count": 5,
     "metadata": {},
     "output_type": "execute_result"
    }
   ],
   "source": [
    "model.predict('1234')"
   ]
  },
  {
   "cell_type": "code",
   "execution_count": null,
   "id": "82ac43f8",
   "metadata": {},
   "outputs": [],
   "source": []
  }
 ],
 "metadata": {
  "kernelspec": {
   "display_name": "test",
   "language": "python",
   "name": "python3"
  },
  "language_info": {
   "codemirror_mode": {
    "name": "ipython",
    "version": 3
   },
   "file_extension": ".py",
   "mimetype": "text/x-python",
   "name": "python",
   "nbconvert_exporter": "python",
   "pygments_lexer": "ipython3",
   "version": "3.9.21"
  }
 },
 "nbformat": 4,
 "nbformat_minor": 5
}
